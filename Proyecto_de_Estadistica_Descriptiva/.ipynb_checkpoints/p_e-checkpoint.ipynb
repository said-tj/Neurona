{
 "cells": [
  {
   "cell_type": "markdown",
   "id": "68d21e61-ebcc-4c02-ba0e-a3aeb926cf39",
   "metadata": {},
   "source": [
    "# Programa de Probabilidad y Estadística"
   ]
  },
  {
   "cell_type": "code",
   "execution_count": 1,
   "id": "1a333486-c369-47c4-b626-c32564aa92f6",
   "metadata": {
    "tags": []
   },
   "outputs": [],
   "source": [
    "# Importamos las librerias necesarias.\n",
    "import math\n",
    "import statistics\n",
    "import numpy as np\n",
    "import pandas as pd\n",
    "import seaborn as sns\n",
    "import matplotlib.pyplot as plt"
   ]
  },
  {
   "cell_type": "code",
   "execution_count": 2,
   "id": "2c41b90a-dfb3-4e17-a29c-d990ad265e7c",
   "metadata": {
    "tags": []
   },
   "outputs": [
    {
     "name": "stdout",
     "output_type": "stream",
     "text": [
      "Hi!, 😀\n"
     ]
    }
   ],
   "source": [
    "# Saludo/Hi Human.\n",
    "print(\"Hi!, \\U0001F600\")"
   ]
  },
  {
   "cell_type": "code",
   "execution_count": 3,
   "id": "39ae4351-18ce-4078-8bd5-cf6c22f37f7d",
   "metadata": {
    "tags": []
   },
   "outputs": [
    {
     "name": "stdin",
     "output_type": "stream",
     "text": [
      "Cuantos datos son:  11\n",
      "-> Ingresa el dato:  23\n",
      "-> Ingresa el dato:  24\n",
      "-> Ingresa el dato:  22\n",
      "-> Ingresa el dato:  19\n",
      "-> Ingresa el dato:  19\n",
      "-> Ingresa el dato:  10\n",
      "-> Ingresa el dato:  23\n",
      "-> Ingresa el dato:  22\n",
      "-> Ingresa el dato:  10\n",
      "-> Ingresa el dato:  11\n",
      "-> Ingresa el dato:  19\n"
     ]
    }
   ],
   "source": [
    "# Para crear nuestra lista o array, necesitamos preguntar cuantos son los elementos que la van a confirmar. Es muy importante que este número que se esta pidiendo no representa la dimensión de columna - renglón de un array (en el caso de que se decida trabajar con array's)\n",
    "\n",
    "# Y los almacenamos en un lista que en primera instancia debe de estar vacia. Ya posterior-mente se le van agregando elementos con la instrucción *.append* dentro del cilo *for*.\n",
    "\n",
    "# Pedimos el número de elementos que se tienen en el conjunto de datos.\n",
    "n_datos = int(input(\"Cuantos datos son: \"))\n",
    "\n",
    "# Se define una lista vacia.\n",
    "a_datos = []\n",
    "\n",
    "# Iteraiones para pedir los datos y almacenarlos.\n",
    "for i in range(0,n_datos): # Donde esta el 120 debes de cambiarlo a el numero de datos que vas a meter.\n",
    "    p = int(input(\"-> Ingresa el dato: \"))\n",
    "    a_datos.append(p)"
   ]
  },
  {
   "cell_type": "markdown",
   "id": "7c19b194-ee7c-42b2-91fa-1199838038e6",
   "metadata": {},
   "source": [
    "Ahora necesitamos ordenar los datos que han sido introducidos en la lista para un uso posterior."
   ]
  },
  {
   "cell_type": "code",
   "execution_count": 4,
   "id": "bae17cff-2614-4c6e-8880-8e2da9b15873",
   "metadata": {
    "tags": []
   },
   "outputs": [],
   "source": [
    "# Ordena los datos de manera ascendente\n",
    "a_d_ordenados = sorted(a_datos)"
   ]
  },
  {
   "cell_type": "markdown",
   "id": "599fd779-1f78-4287-b4fb-938da4757aae",
   "metadata": {},
   "source": [
    "Una parte muy de gran importancia es conocer realizar el conteo de los datos para obtener la frecuancia de los mismos."
   ]
  },
  {
   "cell_type": "code",
   "execution_count": 5,
   "id": "f4391107-2e0f-41d7-b2d6-17d6ed99341f",
   "metadata": {
    "tags": []
   },
   "outputs": [],
   "source": [
    "# Realiza el conteo de los datos 'la frecuencia'.\n",
    "ocurrencias = dict((i, a_d_ordenados.count(i)) for i in a_d_ordenados)\n",
    "\n",
    "# El conjunto generado por el conteo lo manejamos como un diccionario, por ello solo cuanta las del claves.\n",
    "e_d = [] # e_d = elementos del diccionario\n",
    "for e in ocurrencias:\n",
    "    e_d.append(e)\n",
    "    \n",
    "# Dentro del conjunto ya generado almacenamos en una lista los valores del diccionario.\n",
    "v_d = [] # v_d = valores de diccionario\n",
    "for v in ocurrencias.values():\n",
    "    v_d.append(v)"
   ]
  },
  {
   "cell_type": "markdown",
   "id": "7a1ac3f3-5f9f-4761-a7c3-33afcda85023",
   "metadata": {},
   "source": [
    "# Para crear nuestra tabla de frecuecia."
   ]
  },
  {
   "cell_type": "markdown",
   "id": "636c9b24-687c-4af5-975d-381d76d8560d",
   "metadata": {},
   "source": [
    "**Ahora tenemos que mostrar la frecuencia relativa (0.1),(%); frecuencia acumulada (probabilidad acumulada); frecuancia acumulada (0-1),(%).**"
   ]
  },
  {
   "cell_type": "code",
   "execution_count": 6,
   "id": "10fd3f68-38d2-44cf-9efa-ad8ee3519837",
   "metadata": {
    "tags": []
   },
   "outputs": [
    {
     "name": "stdout",
     "output_type": "stream",
     "text": [
      "\n",
      "\n"
     ]
    }
   ],
   "source": [
    "# Frecuencia Relativa (0-1)\n",
    "frecuencia_numerica = []\n",
    "for s in v_d:\n",
    "    f_n = ((s * 100) / n_datos) / 100\n",
    "    frecuencia_numerica.append(f_n)\n",
    "    \n",
    "# Frecuencia Relativa (%)\n",
    "frecuencia_porcentual = []\n",
    "for u in v_d:\n",
    "    f_p = ((u * 100) / n_datos)\n",
    "    frecuencia_porcentual.append(f_p)\n",
    "    \n",
    "# Frecuencia Acumulativa - Probabilidad Acumulada\n",
    "probabilidad_acumulada = []\n",
    "neutro = 0\n",
    "for g in frecuencia_porcentual:\n",
    "    neutro = neutro + g\n",
    "    probabilidad_acumulada.append(neutro)\n",
    "\n",
    "# Frecuencia Acumulada (0-1)\n",
    "f_a_numerica = []\n",
    "for b in probabilidad_acumulada:\n",
    "    f_a_n = b / 100\n",
    "    f_a_numerica.append(f_a_n)\n",
    "    \n",
    "# Frecuencia Acumulada (%)\n",
    "f_a_porcentual = []\n",
    "for c in probabilidad_acumulada:\n",
    "    f_a_p = c\n",
    "    f_a_porcentual.append(f_a_p) \n",
    "\n",
    "print(\"\\n\") # Espacio (estetica jaja)"
   ]
  },
  {
   "cell_type": "markdown",
   "id": "9ad5df71-e1e0-446f-869f-1abf9fdcf6cf",
   "metadata": {},
   "source": [
    "**Creación de un Data Frame.**"
   ]
  },
  {
   "cell_type": "markdown",
   "id": "95793405-76c7-40db-bfa8-2cafe105ca0d",
   "metadata": {},
   "source": [
    "Para manejar los datso de una manera mucho más sencilla y también los cuales nos permitirán la creación de las diversas gráficas que sean necesarias."
   ]
  },
  {
   "cell_type": "code",
   "execution_count": 7,
   "id": "5106bee3-6428-4f34-9971-189ff91ad9f9",
   "metadata": {
    "tags": []
   },
   "outputs": [
    {
     "name": "stdout",
     "output_type": "stream",
     "text": [
      "   clase  frecuencia  frecuencia relativa (0-1)  frecuencia relativa (%)  \\\n",
      "0     10           2                   0.181818                18.181818   \n",
      "1     11           1                   0.090909                 9.090909   \n",
      "2     19           3                   0.272727                27.272727   \n",
      "3     22           2                   0.181818                18.181818   \n",
      "4     23           2                   0.181818                18.181818   \n",
      "5     24           1                   0.090909                 9.090909   \n",
      "\n",
      "   probabilidad acumulada  frecuencia acumulda (0-1)  frecuencia acumulada (%)  \n",
      "0               18.181818                   0.181818                 18.181818  \n",
      "1               27.272727                   0.272727                 27.272727  \n",
      "2               54.545455                   0.545455                 54.545455  \n",
      "3               72.727273                   0.727273                 72.727273  \n",
      "4               90.909091                   0.909091                 90.909091  \n",
      "5              100.000000                   1.000000                100.000000  \n"
     ]
    }
   ],
   "source": [
    "# Creamos el Data Frame.\n",
    "datos = {'clase':e_d, 'frecuencia':v_d, 'frecuencia relativa (0-1)':frecuencia_numerica, \n",
    "'frecuencia relativa (%)':frecuencia_porcentual,\n",
    "'probabilidad acumulada':probabilidad_acumulada,\n",
    "'frecuencia acumulda (0-1)':f_a_numerica,\n",
    "'frecuencia acumulada (%)':f_a_porcentual}\n",
    "df = pd.DataFrame(datos)\n",
    "print(df)"
   ]
  },
  {
   "cell_type": "markdown",
   "id": "fcc90672-160b-4221-9fe3-21f5cc34734d",
   "metadata": {},
   "source": [
    "Hasta ahora el manejo de este Data Frame es bueno sin embargo para crear las gráficas se debe de tener una mejor estructura y tal seria el caso de exportar los datos a un archivo .csv"
   ]
  },
  {
   "cell_type": "code",
   "execution_count": 8,
   "id": "604116c8-2e11-49b5-b781-d395d482a45a",
   "metadata": {
    "tags": []
   },
   "outputs": [],
   "source": [
    "# Exportar mi DataFrame a un archivo csv.\n",
    "df.to_csv('datos_df.csv', index = False)"
   ]
  },
  {
   "cell_type": "markdown",
   "id": "618b60fa-f43e-4fcb-a52c-134e6e165d9c",
   "metadata": {},
   "source": [
    "# Medias de Tendencia Central"
   ]
  },
  {
   "cell_type": "markdown",
   "id": "ac06d575-309e-4635-ba9a-ae1ac3d7a66e",
   "metadata": {},
   "source": [
    "**Para encontrar la media, se realiza**"
   ]
  },
  {
   "cell_type": "code",
   "execution_count": 9,
   "id": "f0d449e8-7ea9-43bc-8ab4-8d6daca11fe5",
   "metadata": {
    "tags": []
   },
   "outputs": [
    {
     "name": "stdout",
     "output_type": "stream",
     "text": [
      "\n",
      "\n",
      "La media es:  18.363636363636363\n"
     ]
    }
   ],
   "source": [
    "# Para encontrar la Media.\n",
    "print(\"\\n\")\n",
    "media = statistics.mean(a_datos)\n",
    "print(\"La media es: \", media)"
   ]
  },
  {
   "cell_type": "markdown",
   "id": "9e88b65b-44da-43d6-aa81-360ffe4aca1f",
   "metadata": {},
   "source": [
    "**Lo siguiente se realiza para obtener la Mediana.**"
   ]
  },
  {
   "cell_type": "code",
   "execution_count": 10,
   "id": "570888f2-5c35-4a25-bea0-e7440af30ecf",
   "metadata": {
    "tags": []
   },
   "outputs": [
    {
     "name": "stdout",
     "output_type": "stream",
     "text": [
      "\n",
      "\n",
      "La mediana es:  19\n"
     ]
    }
   ],
   "source": [
    "# Para encontrar la Mediana.\n",
    "print(\"\\n\")\n",
    "mediana = statistics.median(a_datos)\n",
    "print(\"La mediana es: \", mediana)"
   ]
  },
  {
   "cell_type": "markdown",
   "id": "b61b83f4-2c52-4774-9298-3c8075431686",
   "metadata": {},
   "source": [
    "**Para obtener la moda, se realiza lo siguiente.**"
   ]
  },
  {
   "cell_type": "code",
   "execution_count": 11,
   "id": "02fca9b9-d7e0-4f9c-a57c-2b43c0e252af",
   "metadata": {
    "tags": []
   },
   "outputs": [
    {
     "name": "stdout",
     "output_type": "stream",
     "text": [
      "\n",
      "\n",
      "La moda es:  19\n"
     ]
    }
   ],
   "source": [
    "# Para encontrar la Moda.\n",
    "print(\"\\n\")\n",
    "moda = statistics.mode(a_datos)\n",
    "print(\"La moda es: \", moda)"
   ]
  },
  {
   "cell_type": "markdown",
   "id": "9b819fc9-674f-4c33-874c-4b2a1237e4e1",
   "metadata": {},
   "source": [
    "# Creación de gráficas."
   ]
  },
  {
   "cell_type": "markdown",
   "id": "c7820559-c19a-48b7-80f7-c9063e14db45",
   "metadata": {},
   "source": [
    "Primero debemos importar los datos que han sido generados por la primera parte del programa."
   ]
  },
  {
   "cell_type": "code",
   "execution_count": 18,
   "id": "a5d4a40e-8f0c-4e3c-8ae0-660d1ab9aa64",
   "metadata": {
    "tags": []
   },
   "outputs": [
    {
     "data": {
      "text/html": [
       "<div>\n",
       "<style scoped>\n",
       "    .dataframe tbody tr th:only-of-type {\n",
       "        vertical-align: middle;\n",
       "    }\n",
       "\n",
       "    .dataframe tbody tr th {\n",
       "        vertical-align: top;\n",
       "    }\n",
       "\n",
       "    .dataframe thead th {\n",
       "        text-align: right;\n",
       "    }\n",
       "</style>\n",
       "<table border=\"1\" class=\"dataframe\">\n",
       "  <thead>\n",
       "    <tr style=\"text-align: right;\">\n",
       "      <th></th>\n",
       "      <th>clase</th>\n",
       "      <th>frecuencia</th>\n",
       "      <th>frecuencia relativa (0-1)</th>\n",
       "      <th>frecuencia relativa (%)</th>\n",
       "      <th>probabilidad acumulada</th>\n",
       "      <th>frecuencia acumulda (0-1)</th>\n",
       "      <th>frecuencia acumulada (%)</th>\n",
       "    </tr>\n",
       "  </thead>\n",
       "  <tbody>\n",
       "    <tr>\n",
       "      <th>0</th>\n",
       "      <td>10</td>\n",
       "      <td>2</td>\n",
       "      <td>0.181818</td>\n",
       "      <td>18.181818</td>\n",
       "      <td>18.181818</td>\n",
       "      <td>0.181818</td>\n",
       "      <td>18.181818</td>\n",
       "    </tr>\n",
       "    <tr>\n",
       "      <th>1</th>\n",
       "      <td>11</td>\n",
       "      <td>1</td>\n",
       "      <td>0.090909</td>\n",
       "      <td>9.090909</td>\n",
       "      <td>27.272727</td>\n",
       "      <td>0.272727</td>\n",
       "      <td>27.272727</td>\n",
       "    </tr>\n",
       "    <tr>\n",
       "      <th>2</th>\n",
       "      <td>19</td>\n",
       "      <td>3</td>\n",
       "      <td>0.272727</td>\n",
       "      <td>27.272727</td>\n",
       "      <td>54.545455</td>\n",
       "      <td>0.545455</td>\n",
       "      <td>54.545455</td>\n",
       "    </tr>\n",
       "    <tr>\n",
       "      <th>3</th>\n",
       "      <td>22</td>\n",
       "      <td>2</td>\n",
       "      <td>0.181818</td>\n",
       "      <td>18.181818</td>\n",
       "      <td>72.727273</td>\n",
       "      <td>0.727273</td>\n",
       "      <td>72.727273</td>\n",
       "    </tr>\n",
       "    <tr>\n",
       "      <th>4</th>\n",
       "      <td>23</td>\n",
       "      <td>2</td>\n",
       "      <td>0.181818</td>\n",
       "      <td>18.181818</td>\n",
       "      <td>90.909091</td>\n",
       "      <td>0.909091</td>\n",
       "      <td>90.909091</td>\n",
       "    </tr>\n",
       "    <tr>\n",
       "      <th>5</th>\n",
       "      <td>24</td>\n",
       "      <td>1</td>\n",
       "      <td>0.090909</td>\n",
       "      <td>9.090909</td>\n",
       "      <td>100.000000</td>\n",
       "      <td>1.000000</td>\n",
       "      <td>100.000000</td>\n",
       "    </tr>\n",
       "  </tbody>\n",
       "</table>\n",
       "</div>"
      ],
      "text/plain": [
       "   clase  frecuencia  frecuencia relativa (0-1)  frecuencia relativa (%)  \\\n",
       "0     10           2                   0.181818                18.181818   \n",
       "1     11           1                   0.090909                 9.090909   \n",
       "2     19           3                   0.272727                27.272727   \n",
       "3     22           2                   0.181818                18.181818   \n",
       "4     23           2                   0.181818                18.181818   \n",
       "5     24           1                   0.090909                 9.090909   \n",
       "\n",
       "   probabilidad acumulada  frecuencia acumulda (0-1)  frecuencia acumulada (%)  \n",
       "0               18.181818                   0.181818                 18.181818  \n",
       "1               27.272727                   0.272727                 27.272727  \n",
       "2               54.545455                   0.545455                 54.545455  \n",
       "3               72.727273                   0.727273                 72.727273  \n",
       "4               90.909091                   0.909091                 90.909091  \n",
       "5              100.000000                   1.000000                100.000000  "
      ]
     },
     "execution_count": 18,
     "metadata": {},
     "output_type": "execute_result"
    }
   ],
   "source": [
    "# Importamos los datos para convertirlos en un DataFrame.\n",
    "datos_orden = pd.read_csv('datos_df.csv')\n",
    "datos_orden.head(6)"
   ]
  },
  {
   "cell_type": "code",
   "execution_count": 19,
   "id": "e2509b1d-7491-48f9-b353-b6db5d104036",
   "metadata": {
    "tags": []
   },
   "outputs": [
    {
     "data": {
      "text/html": [
       "<div>\n",
       "<style scoped>\n",
       "    .dataframe tbody tr th:only-of-type {\n",
       "        vertical-align: middle;\n",
       "    }\n",
       "\n",
       "    .dataframe tbody tr th {\n",
       "        vertical-align: top;\n",
       "    }\n",
       "\n",
       "    .dataframe thead th {\n",
       "        text-align: right;\n",
       "    }\n",
       "</style>\n",
       "<table border=\"1\" class=\"dataframe\">\n",
       "  <thead>\n",
       "    <tr style=\"text-align: right;\">\n",
       "      <th></th>\n",
       "      <th>clase</th>\n",
       "      <th>frecuencia</th>\n",
       "      <th>frecuencia relativa (0-1)</th>\n",
       "      <th>frecuencia relativa (%)</th>\n",
       "      <th>probabilidad acumulada</th>\n",
       "      <th>frecuencia acumulda (0-1)</th>\n",
       "      <th>frecuencia acumulada (%)</th>\n",
       "    </tr>\n",
       "  </thead>\n",
       "  <tbody>\n",
       "    <tr>\n",
       "      <th>4</th>\n",
       "      <td>23</td>\n",
       "      <td>2</td>\n",
       "      <td>0.181818</td>\n",
       "      <td>18.181818</td>\n",
       "      <td>90.909091</td>\n",
       "      <td>0.909091</td>\n",
       "      <td>90.909091</td>\n",
       "    </tr>\n",
       "    <tr>\n",
       "      <th>2</th>\n",
       "      <td>19</td>\n",
       "      <td>3</td>\n",
       "      <td>0.272727</td>\n",
       "      <td>27.272727</td>\n",
       "      <td>54.545455</td>\n",
       "      <td>0.545455</td>\n",
       "      <td>54.545455</td>\n",
       "    </tr>\n",
       "    <tr>\n",
       "      <th>3</th>\n",
       "      <td>22</td>\n",
       "      <td>2</td>\n",
       "      <td>0.181818</td>\n",
       "      <td>18.181818</td>\n",
       "      <td>72.727273</td>\n",
       "      <td>0.727273</td>\n",
       "      <td>72.727273</td>\n",
       "    </tr>\n",
       "    <tr>\n",
       "      <th>5</th>\n",
       "      <td>24</td>\n",
       "      <td>1</td>\n",
       "      <td>0.090909</td>\n",
       "      <td>9.090909</td>\n",
       "      <td>100.000000</td>\n",
       "      <td>1.000000</td>\n",
       "      <td>100.000000</td>\n",
       "    </tr>\n",
       "    <tr>\n",
       "      <th>0</th>\n",
       "      <td>10</td>\n",
       "      <td>2</td>\n",
       "      <td>0.181818</td>\n",
       "      <td>18.181818</td>\n",
       "      <td>18.181818</td>\n",
       "      <td>0.181818</td>\n",
       "      <td>18.181818</td>\n",
       "    </tr>\n",
       "    <tr>\n",
       "      <th>1</th>\n",
       "      <td>11</td>\n",
       "      <td>1</td>\n",
       "      <td>0.090909</td>\n",
       "      <td>9.090909</td>\n",
       "      <td>27.272727</td>\n",
       "      <td>0.272727</td>\n",
       "      <td>27.272727</td>\n",
       "    </tr>\n",
       "  </tbody>\n",
       "</table>\n",
       "</div>"
      ],
      "text/plain": [
       "   clase  frecuencia  frecuencia relativa (0-1)  frecuencia relativa (%)  \\\n",
       "4     23           2                   0.181818                18.181818   \n",
       "2     19           3                   0.272727                27.272727   \n",
       "3     22           2                   0.181818                18.181818   \n",
       "5     24           1                   0.090909                 9.090909   \n",
       "0     10           2                   0.181818                18.181818   \n",
       "1     11           1                   0.090909                 9.090909   \n",
       "\n",
       "   probabilidad acumulada  frecuencia acumulda (0-1)  frecuencia acumulada (%)  \n",
       "4               90.909091                   0.909091                 90.909091  \n",
       "2               54.545455                   0.545455                 54.545455  \n",
       "3               72.727273                   0.727273                 72.727273  \n",
       "5              100.000000                   1.000000                100.000000  \n",
       "0               18.181818                   0.181818                 18.181818  \n",
       "1               27.272727                   0.272727                 27.272727  "
      ]
     },
     "execution_count": 19,
     "metadata": {},
     "output_type": "execute_result"
    }
   ],
   "source": [
    "# Me permite ver el 'n' número de filas. Pero al parecer estan en desorden.\n",
    "datos_orden.sample(6)"
   ]
  },
  {
   "cell_type": "code",
   "execution_count": 20,
   "id": "7ed5c1b5-281a-4fda-b495-6ad78a837835",
   "metadata": {
    "tags": []
   },
   "outputs": [
    {
     "data": {
      "text/plain": [
       "Text(0, 0.5, 'Frecuencia Relativa (%)')"
      ]
     },
     "execution_count": 20,
     "metadata": {},
     "output_type": "execute_result"
    },
    {
     "data": {
      "image/png": "[encoded data removed]",
      "text/plain": [
       "<Figure size 640x480 with 1 Axes>"
      ]
     },
     "metadata": {},
     "output_type": "display_data"
    }
   ],
   "source": [
    "datos_orden.plot.scatter(y=\"frecuencia relativa (%)\", x=\"clase\")\n",
    "plt.grid(True)\n",
    "plt.xlabel(\"Clase\")\n",
    "plt.ylabel(\"Frecuencia Relativa (%)\")"
   ]
  },
  {
   "cell_type": "code",
   "execution_count": 21,
   "id": "b00ab22e-09e9-4f7a-ac46-0f5fed8223e5",
   "metadata": {
    "tags": []
   },
   "outputs": [
    {
     "data": {
      "text/plain": [
       "Text(0, 0.5, 'Frecuencia Relativa (%)')"
      ]
     },
     "execution_count": 21,
     "metadata": {},
     "output_type": "execute_result"
    },
    {
     "data": {
      "image/png": "[encoded data removed]",
      "text/plain": [
       "<Figure size 640x480 with 1 Axes>"
      ]
     },
     "metadata": {},
     "output_type": "display_data"
    }
   ],
   "source": [
    "datos_orden.groupby('clase')['frecuencia relativa (%)'].sum().plot(kind='bar')\n",
    "plt.ylabel('Frecuencia')\n",
    "# Histograma\n",
    "plt.title(\"Grafico de barras\")\n",
    "plt.grid(True)\n",
    "plt.xlabel(\"Clase\")\n",
    "plt.ylabel(\"Frecuencia Relativa (%)\")"
   ]
  },
  {
   "cell_type": "code",
   "execution_count": 22,
   "id": "49b7e153-500f-4fd3-9a01-5eefc990cf8f",
   "metadata": {
    "tags": []
   },
   "outputs": [
    {
     "data": {
      "text/plain": [
       "Text(0, 0.5, 'Frecuencia Relativa (%)')"
      ]
     },
     "execution_count": 22,
     "metadata": {},
     "output_type": "execute_result"
    },
    {
     "data": {
      "image/png": "[encoded data removed]",
      "text/plain": [
       "<Figure size 640x480 with 1 Axes>"
      ]
     },
     "metadata": {},
     "output_type": "display_data"
    }
   ],
   "source": [
    "datos_orden.groupby('clase')['frecuencia relativa (%)'].sum().plot(kind='line')\n",
    "plt.ylabel('Frecuencia')\n",
    "# Poligono de Frecuancias\n",
    "plt.title(\"Poligono de Frecuencias\")\n",
    "plt.grid(True)\n",
    "plt.xlabel(\"Clase\")\n",
    "plt.ylabel(\"Frecuencia Relativa (%)\")"
   ]
  },
  {
   "cell_type": "code",
   "execution_count": 23,
   "id": "d63cb442-f321-41a1-a551-fc3336917a4b",
   "metadata": {
    "tags": []
   },
   "outputs": [
    {
     "name": "stderr",
     "output_type": "stream",
     "text": [
      "/tmp/ipykernel_5442/3975906047.py:5: MatplotlibDeprecationWarning: The 'use_line_collection' parameter of stem() was deprecated in Matplotlib 3.6 and will be removed two minor releases later. If any parameter follows 'use_line_collection', they should be passed as keyword, not positionally.\n",
      "  plt.stem(x,y, use_line_collection = True)\n"
     ]
    },
    {
     "data": {
      "image/png": "[encoded data removed]",
      "text/plain": [
       "<Figure size 640x480 with 1 Axes>"
      ]
     },
     "metadata": {},
     "output_type": "display_data"
    }
   ],
   "source": [
    "#Gráfica de Vara\n",
    "plt.title(\"Grafica de Vara\")\n",
    "x = datos_orden['clase']\n",
    "y = datos_orden['frecuencia relativa (%)']\n",
    "plt.stem(x,y, use_line_collection = True)\n",
    "plt.grid(True)\n",
    "plt.show()"
   ]
  },
  {
   "cell_type": "code",
   "execution_count": 24,
   "id": "a17c3b4c-9ca1-4c0b-a215-92e7a483e336",
   "metadata": {
    "tags": []
   },
   "outputs": [
    {
     "data": {
      "text/plain": [
       "Text(0, 0.5, 'Frecuencia Acumulada (0-1)')"
      ]
     },
     "execution_count": 24,
     "metadata": {},
     "output_type": "execute_result"
    },
    {
     "data": {
      "image/png": "[encoded data removed]",
      "text/plain": [
       "<Figure size 640x480 with 1 Axes>"
      ]
     },
     "metadata": {},
     "output_type": "display_data"
    }
   ],
   "source": [
    "# Ojiva.\n",
    "datos_orden.groupby('clase')['frecuencia acumulda (0-1)'].sum().plot(kind='line')\n",
    "plt.ylabel('Frecuencia')\n",
    "# Ojiva\n",
    "plt.grid(True)\n",
    "plt.title(\"Gráfica de Ojiva\")\n",
    "plt.xlabel(\"Clase\")\n",
    "plt.ylabel(\"Frecuencia Acumulada (0-1)\")"
   ]
  },
  {
   "cell_type": "code",
   "execution_count": 25,
   "id": "ddb18633-3710-4868-964a-21f262eea23b",
   "metadata": {
    "tags": []
   },
   "outputs": [
    {
     "data": {
      "image/png": "[encoded data removed]",
      "text/plain": [
       "<Figure size 640x480 with 1 Axes>"
      ]
     },
     "metadata": {},
     "output_type": "display_data"
    }
   ],
   "source": [
    "# Gráfica.\n",
    "plt.title(\"Histograma\")\n",
    "plt.hist(a_datos)\n",
    "plt.grid(True)\n",
    "plt.show()"
   ]
  },
  {
   "cell_type": "code",
   "execution_count": 26,
   "id": "f87585a2-6a4b-4718-8507-5c9258d3301d",
   "metadata": {
    "tags": []
   },
   "outputs": [
    {
     "data": {
      "image/png": "[encoded data removed]",
      "text/plain": [
       "<Figure size 640x480 with 1 Axes>"
      ]
     },
     "metadata": {},
     "output_type": "display_data"
    }
   ],
   "source": [
    "# Gráfica Discontinua.\n",
    "datos_orden = df[df.columns.drop(list(df.filter(regex='Unnamed:')))]\n",
    "plt.plot(df[\"clase\"], df[\"frecuencia acumulada (%)\"], \"bo\", markeredgecolor='c', markerfacecolor='c',\n",
    "        lw=2.0,  label='_nolegend_')\n",
    "plt.plot(df[\"clase\"]+1, df[\"frecuencia acumulada (%)\"], \"bo\", markeredgecolor='c' ,markerfacecolor='w')\n",
    "plt.hlines( df[\"frecuencia acumulada (%)\"], df[\"clase\"], df[\"clase\"]+1, \"c\")\n",
    "plt.ylabel(\"frecuencia\")\n",
    "plt.xlabel(\"clases\")\n",
    "plt.title(\"Gráfica Discontinua\")\n",
    "plt.grid(True)\n",
    "plt.xlabel(\"Clase\")\n",
    "plt.ylabel(\"Frecuencia Acumulada (%)\")\n",
    "plt.show()"
   ]
  },
  {
   "cell_type": "markdown",
   "id": "6a46fcab-6e4e-4a63-9c9e-3e0e7ea5d1c9",
   "metadata": {},
   "source": [
    "# Medidas de dispersión"
   ]
  },
  {
   "cell_type": "markdown",
   "id": "53fa876a-478c-422d-943b-896ade17cc87",
   "metadata": {},
   "source": [
    "**Lo siguiente se realiza para obtener la desviación media o promedio de desviación.**"
   ]
  },
  {
   "cell_type": "code",
   "execution_count": 27,
   "id": "336556ed-1285-44cc-b57c-3835c8a3afe3",
   "metadata": {
    "tags": []
   },
   "outputs": [
    {
     "name": "stdout",
     "output_type": "stream",
     "text": [
      "La desviación media es =  4.380165289256199\n"
     ]
    }
   ],
   "source": [
    "# Desviación media o promedio de desviación.\n",
    "numero_d = len(a_datos) # Cuenta el número de datos de la lista.\n",
    "dm = 0\n",
    "for w in a_datos:\n",
    "    dm += abs(w-media) / numero_d\n",
    "print(\"La desviación media es = \", dm)"
   ]
  },
  {
   "cell_type": "markdown",
   "id": "8c7c991f-1e6a-43cd-962c-210efe7a577e",
   "metadata": {},
   "source": [
    "**Para obtener la varianza se realiza lo siguiente.**"
   ]
  },
  {
   "cell_type": "code",
   "execution_count": 28,
   "id": "7c6b095e-eb57-4c3d-b974-75e85c6aed1f",
   "metadata": {
    "tags": []
   },
   "outputs": [
    {
     "name": "stdout",
     "output_type": "stream",
     "text": [
      "La varianza es =  26.958677685950416\n"
     ]
    }
   ],
   "source": [
    "# Varianza.\n",
    "s_dos = 0\n",
    "for qw in a_datos:\n",
    "    s_dos += pow(qw-media,2)/ numero_d\n",
    "print(\"La varianza es = \", s_dos)"
   ]
  },
  {
   "cell_type": "markdown",
   "id": "f589c546-43d8-47ee-9e82-58573239c077",
   "metadata": {},
   "source": [
    "**Lo siguiente se realiza para obtener la desviación estandar.**"
   ]
  },
  {
   "cell_type": "code",
   "execution_count": 29,
   "id": "f47824d6-e5b2-492b-876e-4ead87508858",
   "metadata": {
    "tags": []
   },
   "outputs": [
    {
     "name": "stdout",
     "output_type": "stream",
     "text": [
      "La desviación estandar es =  14.527364784201339\n"
     ]
    }
   ],
   "source": [
    "s_d_e = 0\n",
    "for wr in a_datos:\n",
    "    s_d_e += math.sqrt(pow(wr-media,2) / numero_d)\n",
    "print(\"La desviación estandar es = \", s_d_e)"
   ]
  },
  {
   "cell_type": "markdown",
   "id": "55cedfdd-862b-4b34-85c4-d31a59f825ed",
   "metadata": {},
   "source": [
    "# Medidas de forma."
   ]
  },
  {
   "cell_type": "markdown",
   "id": "388fba44-251a-49b0-b36d-5f2100c0c464",
   "metadata": {},
   "source": [
    "**Lo siguiente se realiza para obtener el coeficiente de asimetria de Fisher.**"
   ]
  },
  {
   "cell_type": "markdown",
   "id": "f2faab1e-199d-45c3-bc78-e365062db4f3",
   "metadata": {},
   "source": [
    "**Calculo de la curtosis**"
   ]
  },
  {
   "cell_type": "code",
   "execution_count": 30,
   "id": "d1a5fc1e-7693-4090-9cf9-51aa5f821f48",
   "metadata": {
    "tags": []
   },
   "outputs": [
    {
     "name": "stdout",
     "output_type": "stream",
     "text": [
      "[10, 11, 19, 22, 23, 24]\n",
      "[2, 1, 3, 2, 2, 1]\n",
      "296.54545454545456\n"
     ]
    }
   ],
   "source": [
    "# Esto es elevarlo a la potencia 2\n",
    "print(e_d) # Mis x\n",
    "print(v_d) # Frecuencias\n",
    "hhh = 0\n",
    "\n",
    "for fs in e_d:\n",
    "    frq = ocurrencias[fs]\n",
    "    \n",
    "    hhh += pow(fs - media, 2) * frq\n",
    "    \n",
    "print(hhh)"
   ]
  },
  {
   "cell_type": "code",
   "execution_count": 31,
   "id": "41cdc89b-2dc4-48b5-92ad-7db13ada632b",
   "metadata": {
    "tags": []
   },
   "outputs": [
    {
     "name": "stdout",
     "output_type": "stream",
     "text": [
      "[10, 11, 19, 22, 23, 24]\n",
      "[2, 1, 3, 2, 2, 1]\n",
      "15009.852742299023\n"
     ]
    }
   ],
   "source": [
    "# Esto es elevarlo a la potencia 4\n",
    "print(e_d) # Mis x\n",
    "print(v_d) # Frecuencias\n",
    "zzz = 0\n",
    "\n",
    "for bv in e_d:\n",
    "    hnm = ocurrencias[bv]\n",
    "    \n",
    "    zzz += pow(bv - media, 4) * hnm\n",
    "    \n",
    "print(zzz)"
   ]
  },
  {
   "cell_type": "code",
   "execution_count": 32,
   "id": "fa0adf85-fb8f-4f5a-bc3b-a1d596529fe6",
   "metadata": {
    "tags": []
   },
   "outputs": [
    {
     "name": "stdout",
     "output_type": "stream",
     "text": [
      "La curtosis es: -1.1224713466590934\n"
     ]
    }
   ],
   "source": [
    "# Solo para saber cuantos datos hay\n",
    "aa = len(a_datos)\n",
    "\n",
    "\n",
    "\n",
    "#ggg = ( ((1/aa) * zzz) / (pow((1/aa) * hhh, 2)) ) - 3\n",
    "\n",
    "a_q = 1/aa\n",
    "numerador = a_q * zzz\n",
    "\n",
    "w_r = a_q * hhh\n",
    "denominador = pow(w_r, 2)\n",
    "\n",
    "gg = numerador / denominador\n",
    "\n",
    "ggg = gg - 3\n",
    "\n",
    "\n",
    "print(\"La curtosis es:\",ggg)"
   ]
  },
  {
   "cell_type": "markdown",
   "id": "ba620520-8b8a-4dfa-9a08-f957995b6043",
   "metadata": {},
   "source": [
    "**Se realiza lo siguiente para obtener el rango**"
   ]
  },
  {
   "cell_type": "code",
   "execution_count": 33,
   "id": "02d37c41-7873-491f-8199-4cdd4a20425a",
   "metadata": {
    "tags": []
   },
   "outputs": [
    {
     "name": "stdout",
     "output_type": "stream",
     "text": [
      "El Rango es = 14\n"
     ]
    }
   ],
   "source": [
    "# Para obtener el Rango.\n",
    "max_dat = max(a_datos)\n",
    "min_dat = min(a_datos)\n",
    "\n",
    "rango = max_dat - min_dat\n",
    "\n",
    "print(\"El Rango es =\", rango)"
   ]
  },
  {
   "cell_type": "code",
   "execution_count": null,
   "id": "d9c83c8a-dac2-43cd-b3a4-1019e65afa61",
   "metadata": {},
   "outputs": [],
   "source": []
  },
  {
   "cell_type": "code",
   "execution_count": null,
   "id": "87437e8e-4723-4f18-9504-30b348777bb5",
   "metadata": {},
   "outputs": [],
   "source": []
  }
 ],
 "metadata": {
  "kernelspec": {
   "display_name": "Python 3 (ipykernel)",
   "language": "python",
   "name": "python3"
  },
  "language_info": {
   "codemirror_mode": {
    "name": "ipython",
    "version": 3
   },
   "file_extension": ".py",
   "mimetype": "text/x-python",
   "name": "python",
   "nbconvert_exporter": "python",
   "pygments_lexer": "ipython3",
   "version": "3.11.4"
  }
 },
 "nbformat": 4,
 "nbformat_minor": 5
}
